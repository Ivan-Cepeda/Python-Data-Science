{
 "cells": [
  {
   "cell_type": "code",
   "execution_count": null,
   "metadata": {},
   "outputs": [],
   "source": [
    "import csv\n",
    "\n",
    "with open('data.csv', mode='r') as file:\n",
    "    csv_reader = csv.DictReader(file)\n",
    "    for row in csv_reader:\n",
    "        print(row)\n"
   ]
  },
  {
   "cell_type": "code",
   "execution_count": null,
   "metadata": {},
   "outputs": [],
   "source": [
    "import json\n",
    "\n",
    "with open('data.json', 'r') as file:\n",
    "    data = json.load(file)\n",
    "    print(data)"
   ]
  },
  {
   "cell_type": "code",
   "execution_count": null,
   "metadata": {},
   "outputs": [],
   "source": [
    "import pandas as pd\n",
    "\n",
    "# Cargar datos desde un archivo CSV\n",
    "df = pd.read_csv('data.csv')\n",
    "\n",
    "# Mostrar las primeras filas del DataFrame\n",
    "df.head()"
   ]
  },
  {
   "cell_type": "code",
   "execution_count": null,
   "metadata": {},
   "outputs": [],
   "source": [
    "import requests\n",
    "from bs4 import BeautifulSoup\n",
    "\n",
    "# URL de la página de Wikipedia sobre Python\n",
    "url = 'https://es.wikipedia.org/wiki/Python'\n",
    "\n",
    "# Descargar la página web\n",
    "response = requests.get(url)\n",
    "\n",
    "# Analizar el contenido HTML\n",
    "soup = BeautifulSoup(response.content, 'html.parser')\n",
    "\n",
    "# Encontrar el contenido principal de la página\n",
    "content = soup.find('div', {'class': 'mw-parser-output'})\n",
    "\n",
    "# Extraer y mostrar el zen de python\n",
    "for paragraph in content.find_all('li'):\n",
    "    print(paragraph.get_text())\n"
   ]
  },
  {
   "cell_type": "code",
   "execution_count": null,
   "metadata": {},
   "outputs": [],
   "source": [
    "import pymysql\n",
    "\n",
    "# Conectarse a la base de datos MySQL\n",
    "conn = pymysql.connect(\n",
    "    host='localhost',\n",
    "    user='tu_usuario',\n",
    "    passwd='tu_contraseña',\n",
    "    db='mi_base_de_datos'\n",
    ")\n",
    "\n",
    "# Crear un cursor\n",
    "cur = conn.cursor()\n",
    "\n",
    "# Crear una tabla\n",
    "cur.execute('''\n",
    "    CREATE TABLE IF NOT EXISTS Ventas (\n",
    "        id INTEGER PRIMARY KEY,\n",
    "        Fecha DATE,\n",
    "        Producto VARCHAR(100),\n",
    "        Cantidad_Vendida INT,\n",
    "        Precio_Unitario INT, \n",
    "        Total_Ventas INT,\n",
    "        Region VARCHAR(80)\n",
    "    )\n",
    "''')\n",
    "\n",
    "# Insertar datos\n",
    "cur.execute('''\n",
    "    INSERT INTO  Ventas (Producto, Cantidad_Vendida, Precio_Unitario, Total_Ventas, Region)\n",
    "    VALUES ('2022/01/01','Producto A', 100, 10, 1000, 'Norte')\n",
    "''')\n",
    "\n",
    "# Guardar los cambios\n",
    "conn.commit()\n",
    "\n",
    "# Realizar una consulta\n",
    "cur.execute('SELECT * FROM Ventas')\n",
    "\n",
    "# Obtener todos los resultados de la consulta\n",
    "rows = cur.fetchall()\n",
    "\n",
    "# Imprimir los resultados\n",
    "for row in rows:\n",
    "    print(row)\n",
    "\n",
    "# Cerrar la conexión\n",
    "conn.close()"
   ]
  },
  {
   "cell_type": "code",
   "execution_count": null,
   "metadata": {},
   "outputs": [],
   "source": [
    "import pandas as pd\n",
    "\n",
    "df = pd.read_csv(\"data.csv\")\n",
    "print(df.info())\n",
    "print(df.describe())\n",
    "print(df.isnull().sum())"
   ]
  },
  {
   "cell_type": "code",
   "execution_count": null,
   "metadata": {},
   "outputs": [],
   "source": [
    "import pandas as pd\n",
    "\n",
    "df = pd.read_csv(\"data.csv\")\n",
    "\n",
    "# Eliminación de valores nulos\n",
    "df.dropna(inplace=True)\n",
    "\n",
    "# Cambio de tipo de datos\n",
    "df['Total de Ventas'] = df['Total de Ventas'].astype(int)\n",
    "\n",
    "# Aplicación de funciones\n",
    "df['IVA'] = df['Precio Unitario'].apply(lambda x: x * 0.18)\n",
    "\n",
    "#Creación de nuevas Columnas\n",
    "df['Precio Con IVA'] = df['Precio Unitario'] + df['IVA']\n",
    "\n",
    "#Costo unitario\n",
    "df['Costo Unitario'] = df['Precio Unitario'] - (df['Precio Unitario'] * 0.30)\n",
    "df"
   ]
  },
  {
   "cell_type": "code",
   "execution_count": null,
   "metadata": {},
   "outputs": [],
   "source": [
    "import numpy as np\n",
    "\n",
    "array = np.array([1, 2, 3, 4])\n",
    "print(array * 2)"
   ]
  },
  {
   "cell_type": "code",
   "execution_count": null,
   "metadata": {},
   "outputs": [],
   "source": [
    "from scipy import stats\n",
    "\n",
    "data = [1, 2, 3, 4, 5, 6, 7, 8, 9]\n",
    "print(stats.describe(data))"
   ]
  },
  {
   "cell_type": "code",
   "execution_count": null,
   "metadata": {},
   "outputs": [],
   "source": [
    "import pandas as pd\n",
    "import matplotlib.pyplot as plt\n",
    "\n",
    "# Asegurarse de que los gráficos se muestran dentro del notebook\n",
    "%matplotlib inline\n",
    "\n",
    "# Gráfico de líneas de Total de Ventas por Fecha de Venta\n",
    "plt.figure(figsize=(8, 4))\n",
    "plt.plot(df['Fecha de Venta'], df['Total de Ventas'], marker='o')\n",
    "plt.title('Total de Ventas por Fecha de Venta')\n",
    "plt.xlabel('Fecha de Venta')\n",
    "plt.ylabel('Total de Ventas')\n",
    "plt.xticks(rotation=45)\n",
    "plt.grid(True)\n",
    "plt.show()"
   ]
  },
  {
   "cell_type": "code",
   "execution_count": null,
   "metadata": {},
   "outputs": [],
   "source": [
    "import seaborn as sns\n",
    "\n",
    "# Gráfico de barras del Total de Ventas por Región\n",
    "plt.figure(figsize=(8, 4))\n",
    "sns.barplot(x='Región', y='Total de Ventas', data=df)\n",
    "plt.title('Total de Ventas por Región')\n",
    "plt.xlabel('Región')\n",
    "plt.ylabel('Total de Ventas')\n",
    "plt.show()"
   ]
  },
  {
   "cell_type": "code",
   "execution_count": null,
   "metadata": {},
   "outputs": [],
   "source": [
    "#PREPRACIÓN DE LOS DATOS\n",
    "from sklearn.model_selection import train_test_split\n",
    "from sklearn.preprocessing import StandardScaler\n",
    "\n",
    "# Seleccionar características (features) y la variable objetivo (target)\n",
    "X = df[['Precio Unitario', 'Total de Ventas', 'IVA', 'Precio Con IVA', 'Costo Unitario']]\n",
    "y = df['Cantidad Vendida']\n",
    "\n",
    "# Dividir el dataset en conjunto de entrenamiento y conjunto de prueba\n",
    "X_train, X_test, y_train, y_test = train_test_split(X, y, test_size=0.2, random_state=42)\n",
    "\n",
    "# Escalar las características\n",
    "scaler = StandardScaler()\n",
    "X_train_scaled = scaler.fit_transform(X_train)\n",
    "X_test_scaled = scaler.transform(X_test)\n",
    "\n",
    "#ENTRENAMIENTO DEL MODELO\n",
    "from sklearn.linear_model import LinearRegression\n",
    "\n",
    "# Crear y entrenar el modelo\n",
    "model = LinearRegression()\n",
    "model.fit(X_train_scaled, y_train)\n",
    "\n",
    "#EVALUACION DEL MODELO\n",
    "from sklearn.metrics import mean_squared_error, r2_score\n",
    "\n",
    "# Hacer predicciones\n",
    "y_pred = model.predict(X_test_scaled)\n",
    "\n",
    "# Evaluar el modelo\n",
    "mse = mean_squared_error(y_test, y_pred)\n",
    "r2 = r2_score(y_test, y_pred)\n",
    "\n",
    "print(f'Mean Squared Error: {mse}')\n",
    "print(f'R^2 Score: {r2}')"
   ]
  }
 ],
 "metadata": {
  "kernelspec": {
   "display_name": "Python 3",
   "language": "python",
   "name": "python3"
  },
  "language_info": {
   "codemirror_mode": {
    "name": "ipython",
    "version": 3
   },
   "file_extension": ".py",
   "mimetype": "text/x-python",
   "name": "python",
   "nbconvert_exporter": "python",
   "pygments_lexer": "ipython3",
   "version": "3.12.1"
  }
 },
 "nbformat": 4,
 "nbformat_minor": 2
}
